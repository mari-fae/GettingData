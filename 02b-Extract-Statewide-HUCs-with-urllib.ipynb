{
 "cells": [
  {
   "cell_type": "markdown",
   "metadata": {},
   "source": [
    "### Download watershed boundaries for a specific HUC\n",
    "Here we use the `urllib` and `zipfile` packages to download and unzip HUCs for a state specified in the first code box. Once downloaded, we see how the `geopandas` package is used to analyze and visualize the data. "
   ]
  },
  {
   "cell_type": "code",
   "execution_count": 17,
   "metadata": {},
   "outputs": [],
   "source": [
    "#Set the state\n",
    "state = 'Maryland'"
   ]
  },
  {
   "cell_type": "code",
   "execution_count": 1,
   "metadata": {},
   "outputs": [],
   "source": [
    "#Import modules\n",
    "import os\n",
    "import urllib\n",
    "import zipfile #https://pymotw.com/2/zipfile/\n",
    "import geopandas as gpd #http://geopandas.org/io.html"
   ]
  },
  {
   "cell_type": "code",
   "execution_count": 11,
   "metadata": {},
   "outputs": [],
   "source": [
    "#Allow maps to be shown inline...\n",
    "%matplotlib inline"
   ]
  },
  {
   "cell_type": "markdown",
   "metadata": {},
   "source": [
    "The data we want is stored on an FTP server:ftp://rockyftp.cr.usgs.gov/vdelivery/Datasets/Staged/Hydrography/NHD/State/HighResolution/Shape). Open the link (*you'll have to copy and paste the link...*) and view the files. The zip files contain the shapefiles we want, and the all have a set name of `NHD_H_***_State_Shape.zip`, where `***` is the state name. \n",
    "\n",
    "So, what we want to do is create two variables. The first points to the FTP folder containing the file we want, and the second is the name of the actual file we want. Separating the name is a bit easier to manage and also gives us a proper output file name. "
   ]
  },
  {
   "cell_type": "code",
   "execution_count": 18,
   "metadata": {},
   "outputs": [],
   "source": [
    "#Set the URLs\n",
    "ftpFolder = 'ftp://rockyftp.cr.usgs.gov/vdelivery/Datasets/Staged/Hydrography/NHD/State/HighResolution/Shape/'\n",
    "stateFile = 'NHD_H_{}_State_Shape.zip'.format(state)"
   ]
  },
  {
   "cell_type": "markdown",
   "metadata": {},
   "source": [
    "With these variables set, we construct the full URL, which is just the ftpFolder and the stateFile together with a forward slash between them. \n",
    "\n",
    "Then we use the `urllib.request.urlretrieve` command, passing it the URL we want to retrieve and a filename used to store the file locally. This take a few moments to complete since we are downloading the data in this step. "
   ]
  },
  {
   "cell_type": "code",
   "execution_count": 19,
   "metadata": {},
   "outputs": [
    {
     "name": "stdout",
     "output_type": "stream",
     "text": [
      "NHD_H_Maryland_State_Shape.zip already downloaded\n"
     ]
    }
   ],
   "source": [
    "#Get the file (this can take a few minutes...)\n",
    "url = ftpFolder + \"/\" + stateFile\n",
    "if os.path.exists(stateFile):\n",
    "    print(\"{} already downloaded\".format(stateFile))\n",
    "else:\n",
    "    print(\"Downloading {}\".format(stateFile))\n",
    "    data = urllib.request.urlretrieve(url,stateFile)"
   ]
  },
  {
   "cell_type": "markdown",
   "metadata": {},
   "source": [
    "We just downloaded the zip file, so we can use the Python `zipfile` package to unpack the contents into a folder we create. "
   ]
  },
  {
   "cell_type": "code",
   "execution_count": 6,
   "metadata": {},
   "outputs": [],
   "source": [
    "#Unzip the file\n",
    "outFolder = stateFile[:-4]\n",
    "if not os.path.exists(outFolder): os.mkdir(outFolder)\n",
    "zip_ref = zipfile.ZipFile(stateFile)\n",
    "zip_ref.extractall(outFolder)\n",
    "zip_ref.close()"
   ]
  },
  {
   "cell_type": "markdown",
   "metadata": {},
   "source": [
    "Here we use `GeoPandas` to read the shapefile's contents into a GeoDataFrame. (More on GeoPandas later...)"
   ]
  },
  {
   "cell_type": "code",
   "execution_count": null,
   "metadata": {},
   "outputs": [],
   "source": [
    "#HUC8\n",
    "shp = outFolder + os.sep + 'Shape' + os.sep + 'WBDHU8.shp'\n",
    "gdf = gpd.read_file(shp)\n",
    "gdf.head()"
   ]
  },
  {
   "cell_type": "markdown",
   "metadata": {},
   "source": [
    "The `plot` method of a geodataframe plots our spatial data to the screen. The `figsize` property sets how big we want to show it. More on the plot function is [here](http://geopandas.org/reference.html?highlight=plot#geopandas.GeoDataFrame.plot).\n",
    "\n",
    "GIS without any ArcGIS! "
   ]
  },
  {
   "cell_type": "code",
   "execution_count": null,
   "metadata": {},
   "outputs": [],
   "source": [
    "#Plot the geodataframe\n",
    "gdf.plot(figsize=(20,10));"
   ]
  },
  {
   "cell_type": "markdown",
   "metadata": {},
   "source": [
    "## ► Exercise\n",
    "The FTP folder ftp://rockyftp.cr.usgs.gov/vdelivery/Datasets/Staged/LndCvr/Shape/ contains land cover shapes for all US states. Use the example above to write code blocks to download and display land cover for Hawaii. "
   ]
  },
  {
   "cell_type": "code",
   "execution_count": 2,
   "metadata": {},
   "outputs": [],
   "source": [
    "# NOTE: I re-ran the cell above in the example above to import all the required modules\n",
    "state = 'Delaware'"
   ]
  },
  {
   "cell_type": "code",
   "execution_count": 4,
   "metadata": {},
   "outputs": [],
   "source": [
    "#Set the URLs\n",
    "ftpFolder = 'ftp://rockyftp.cr.usgs.gov/vdelivery/Datasets/Staged/LndCvr/Shape/'\n",
    "stateFile = 'LNDCVR_{}_State_Shape.zip'.format(state)"
   ]
  },
  {
   "cell_type": "code",
   "execution_count": 5,
   "metadata": {},
   "outputs": [],
   "source": [
    "#Get the file (this can take a few minutes...)\n",
    "url = ftpFolder + '/' + stateFile\n",
    "data = urllib.request.urlretrieve(url,stateFile)"
   ]
  },
  {
   "cell_type": "code",
   "execution_count": 6,
   "metadata": {},
   "outputs": [],
   "source": [
    "#Unzip the file\n",
    "outFolder = stateFile[:-4]\n",
    "if not os.path.exists(outFolder): os.mkdir(outFolder)\n",
    "zip_ref = zipfile.ZipFile(stateFile)\n",
    "zip_ref.extractall(outFolder)\n",
    "zip_ref.close()"
   ]
  },
  {
   "cell_type": "code",
   "execution_count": 7,
   "metadata": {},
   "outputs": [
    {
     "data": {
      "text/html": [
       "<div>\n",
       "<style scoped>\n",
       "    .dataframe tbody tr th:only-of-type {\n",
       "        vertical-align: middle;\n",
       "    }\n",
       "\n",
       "    .dataframe tbody tr th {\n",
       "        vertical-align: top;\n",
       "    }\n",
       "\n",
       "    .dataframe thead th {\n",
       "        text-align: right;\n",
       "    }\n",
       "</style>\n",
       "<table border=\"1\" class=\"dataframe\">\n",
       "  <thead>\n",
       "    <tr style=\"text-align: right;\">\n",
       "      <th></th>\n",
       "      <th>OBJECTID</th>\n",
       "      <th>PERMANENT_</th>\n",
       "      <th>SOURCE_FEA</th>\n",
       "      <th>SOURCE_DAT</th>\n",
       "      <th>SOURCE_D_1</th>\n",
       "      <th>SOURCE_ORI</th>\n",
       "      <th>DATA_SECUR</th>\n",
       "      <th>DISTRIBUTI</th>\n",
       "      <th>LOADDATE</th>\n",
       "      <th>FCODE</th>\n",
       "      <th>GLOBALID</th>\n",
       "      <th>SHAPE_Leng</th>\n",
       "      <th>SHAPE_Area</th>\n",
       "      <th>geometry</th>\n",
       "    </tr>\n",
       "  </thead>\n",
       "  <tbody>\n",
       "    <tr>\n",
       "      <th>0</th>\n",
       "      <td>1</td>\n",
       "      <td>d7ac71ee-5754-4719-9c07-e8fe4a80d84c</td>\n",
       "      <td>None</td>\n",
       "      <td>9a95508d-06d1-4596-a031-196ac9fd2d8d</td>\n",
       "      <td>39075-C6</td>\n",
       "      <td>U.S. Geological Survey</td>\n",
       "      <td>5</td>\n",
       "      <td>E4</td>\n",
       "      <td>2016-10-03</td>\n",
       "      <td>10600</td>\n",
       "      <td>{03B84CC6-B661-45E9-8E96-F2148CDD7FB8}</td>\n",
       "      <td>0.217762</td>\n",
       "      <td>4.499579e-04</td>\n",
       "      <td>POLYGON ((-75.7817160657516 39.27817359106911,...</td>\n",
       "    </tr>\n",
       "    <tr>\n",
       "      <th>1</th>\n",
       "      <td>2</td>\n",
       "      <td>d48a85be-bcbd-4836-a967-1921dd43d2be</td>\n",
       "      <td>None</td>\n",
       "      <td>9a95508d-06d1-4596-a031-196ac9fd2d8d</td>\n",
       "      <td>39075-D7</td>\n",
       "      <td>U.S. Geological Survey</td>\n",
       "      <td>5</td>\n",
       "      <td>E4</td>\n",
       "      <td>2016-10-03</td>\n",
       "      <td>10600</td>\n",
       "      <td>{BBF34F2B-4385-46E9-9339-5B1DE4A45CB8}</td>\n",
       "      <td>0.020976</td>\n",
       "      <td>1.232595e-05</td>\n",
       "      <td>POLYGON ((-75.77738285534167 39.46920911056424...</td>\n",
       "    </tr>\n",
       "    <tr>\n",
       "      <th>2</th>\n",
       "      <td>3</td>\n",
       "      <td>ab4e4301-bbb8-4ec8-a525-83cde3fe916b</td>\n",
       "      <td>None</td>\n",
       "      <td>9a95508d-06d1-4596-a031-196ac9fd2d8d</td>\n",
       "      <td>39075-E7</td>\n",
       "      <td>U.S. Geological Survey</td>\n",
       "      <td>5</td>\n",
       "      <td>E4</td>\n",
       "      <td>2016-10-03</td>\n",
       "      <td>10600</td>\n",
       "      <td>{81A2CD06-7205-46D0-BAA9-91F70DD7BB45}</td>\n",
       "      <td>0.020242</td>\n",
       "      <td>8.391205e-06</td>\n",
       "      <td>POLYGON ((-75.77823821471532 39.52014748652687...</td>\n",
       "    </tr>\n",
       "    <tr>\n",
       "      <th>3</th>\n",
       "      <td>4</td>\n",
       "      <td>04c513fd-05d9-4983-80ce-4d38874a8ef9</td>\n",
       "      <td>None</td>\n",
       "      <td>9a95508d-06d1-4596-a031-196ac9fd2d8d</td>\n",
       "      <td>39075-E7</td>\n",
       "      <td>U.S. Geological Survey</td>\n",
       "      <td>5</td>\n",
       "      <td>E4</td>\n",
       "      <td>2016-10-03</td>\n",
       "      <td>10600</td>\n",
       "      <td>{73D61E1D-0B68-4D29-ABF6-D914F099C858}</td>\n",
       "      <td>0.000455</td>\n",
       "      <td>1.483387e-09</td>\n",
       "      <td>POLYGON ((-75.77504359076198 39.50000000009982...</td>\n",
       "    </tr>\n",
       "    <tr>\n",
       "      <th>4</th>\n",
       "      <td>5</td>\n",
       "      <td>732dae1f-352c-4ef0-b0b6-d265a5c59b77</td>\n",
       "      <td>None</td>\n",
       "      <td>9a95508d-06d1-4596-a031-196ac9fd2d8d</td>\n",
       "      <td>39075-E7</td>\n",
       "      <td>U.S. Geological Survey</td>\n",
       "      <td>5</td>\n",
       "      <td>E4</td>\n",
       "      <td>2016-10-03</td>\n",
       "      <td>10600</td>\n",
       "      <td>{1B90BD54-90B8-4FC2-A81E-81F40F82A0AA}</td>\n",
       "      <td>0.092916</td>\n",
       "      <td>6.659141e-05</td>\n",
       "      <td>POLYGON ((-75.76616206369243 39.51469760632699...</td>\n",
       "    </tr>\n",
       "  </tbody>\n",
       "</table>\n",
       "</div>"
      ],
      "text/plain": [
       "   OBJECTID                            PERMANENT_ SOURCE_FEA  \\\n",
       "0         1  d7ac71ee-5754-4719-9c07-e8fe4a80d84c       None   \n",
       "1         2  d48a85be-bcbd-4836-a967-1921dd43d2be       None   \n",
       "2         3  ab4e4301-bbb8-4ec8-a525-83cde3fe916b       None   \n",
       "3         4  04c513fd-05d9-4983-80ce-4d38874a8ef9       None   \n",
       "4         5  732dae1f-352c-4ef0-b0b6-d265a5c59b77       None   \n",
       "\n",
       "                             SOURCE_DAT SOURCE_D_1              SOURCE_ORI  \\\n",
       "0  9a95508d-06d1-4596-a031-196ac9fd2d8d   39075-C6  U.S. Geological Survey   \n",
       "1  9a95508d-06d1-4596-a031-196ac9fd2d8d   39075-D7  U.S. Geological Survey   \n",
       "2  9a95508d-06d1-4596-a031-196ac9fd2d8d   39075-E7  U.S. Geological Survey   \n",
       "3  9a95508d-06d1-4596-a031-196ac9fd2d8d   39075-E7  U.S. Geological Survey   \n",
       "4  9a95508d-06d1-4596-a031-196ac9fd2d8d   39075-E7  U.S. Geological Survey   \n",
       "\n",
       "   DATA_SECUR DISTRIBUTI    LOADDATE  FCODE  \\\n",
       "0           5         E4  2016-10-03  10600   \n",
       "1           5         E4  2016-10-03  10600   \n",
       "2           5         E4  2016-10-03  10600   \n",
       "3           5         E4  2016-10-03  10600   \n",
       "4           5         E4  2016-10-03  10600   \n",
       "\n",
       "                                 GLOBALID  SHAPE_Leng    SHAPE_Area  \\\n",
       "0  {03B84CC6-B661-45E9-8E96-F2148CDD7FB8}    0.217762  4.499579e-04   \n",
       "1  {BBF34F2B-4385-46E9-9339-5B1DE4A45CB8}    0.020976  1.232595e-05   \n",
       "2  {81A2CD06-7205-46D0-BAA9-91F70DD7BB45}    0.020242  8.391205e-06   \n",
       "3  {73D61E1D-0B68-4D29-ABF6-D914F099C858}    0.000455  1.483387e-09   \n",
       "4  {1B90BD54-90B8-4FC2-A81E-81F40F82A0AA}    0.092916  6.659141e-05   \n",
       "\n",
       "                                            geometry  \n",
       "0  POLYGON ((-75.7817160657516 39.27817359106911,...  \n",
       "1  POLYGON ((-75.77738285534167 39.46920911056424...  \n",
       "2  POLYGON ((-75.77823821471532 39.52014748652687...  \n",
       "3  POLYGON ((-75.77504359076198 39.50000000009982...  \n",
       "4  POLYGON ((-75.76616206369243 39.51469760632699...  "
      ]
     },
     "execution_count": 7,
     "metadata": {},
     "output_type": "execute_result"
    }
   ],
   "source": [
    "#LandCover\n",
    "shp = outFolder + os.sep + 'Shape' + os.sep + 'LandCover_Woodland.shp'\n",
    "gdf = gpd.read_file(shp)\n",
    "gdf.head()"
   ]
  },
  {
   "cell_type": "code",
   "execution_count": 8,
   "metadata": {},
   "outputs": [],
   "source": [
    "#Plot\n",
    "gdf.plot(figsize=(20,10));"
   ]
  },
  {
   "cell_type": "code",
   "execution_count": null,
   "metadata": {},
   "outputs": [],
   "source": []
  }
 ],
 "metadata": {
  "kernelspec": {
   "display_name": "Python 3",
   "language": "python",
   "name": "python3"
  },
  "language_info": {
   "codemirror_mode": {
    "name": "ipython",
    "version": 3
   },
   "file_extension": ".py",
   "mimetype": "text/x-python",
   "name": "python",
   "nbconvert_exporter": "python",
   "pygments_lexer": "ipython3",
   "version": "3.6.5"
  }
 },
 "nbformat": 4,
 "nbformat_minor": 2
}
